{
  "nbformat": 4,
  "nbformat_minor": 0,
  "metadata": {
    "colab": {
      "provenance": [],
      "authorship_tag": "ABX9TyN1rm3APNgGhq7jxG3xcjw4",
      "include_colab_link": true
    },
    "kernelspec": {
      "name": "python3",
      "display_name": "Python 3"
    },
    "language_info": {
      "name": "python"
    }
  },
  "cells": [
    {
      "cell_type": "markdown",
      "metadata": {
        "id": "view-in-github",
        "colab_type": "text"
      },
      "source": [
        "<a href=\"https://colab.research.google.com/github/pransil/ML-Model-Templates/blob/main/grayscale_objects.ipynb\" target=\"_parent\"><img src=\"https://colab.research.google.com/assets/colab-badge.svg\" alt=\"Open In Colab\"/></a>"
      ]
    },
    {
      "cell_type": "markdown",
      "source": [
        "## From Kaggle\n",
        "Solim's [Images of primitive 3D objects for classification](https://www.kaggle.com/code/sirsolim/convnet)"
      ],
      "metadata": {
        "id": "I0YLr5zMbUA7"
      }
    },
    {
      "cell_type": "code",
      "source": [
        "import tensorflow as tf\n",
        "import numpy as np\n"
      ],
      "metadata": {
        "id": "SGT9AoJMbzvJ"
      },
      "execution_count": null,
      "outputs": []
    },
    {
      "cell_type": "code",
      "source": [
        "from google.colab import drive\n",
        "drive.mount('from google.colab import drive\n",
        "drive.mount('/content/gdrive')')\n",
        "!pwd\n",
        "!ls"
      ],
      "metadata": {
        "colab": {
          "base_uri": "https://localhost:8080/"
        },
        "id": "5bAtIqqYBKdc",
        "outputId": "0c54c541-0d4e-4ec6-97c3-c803d9a9c993"
      },
      "execution_count": 1,
      "outputs": [
        {
          "output_type": "stream",
          "name": "stdout",
          "text": [
            "Mounted at /content/gdrive\n",
            "/content\n",
            "gdrive\tsample_data\n"
          ]
        }
      ]
    },
    {
      "cell_type": "code",
      "source": [
        "!ls gdrive/MyDrive/'Colab Notebooks'/data/gray_objects\n"
      ],
      "metadata": {
        "colab": {
          "base_uri": "https://localhost:8080/"
        },
        "id": "gcK71SoaCB46",
        "outputId": "c3fe94f1-98a3-45f1-bff2-6f7f7bbbb834"
      },
      "execution_count": 6,
      "outputs": [
        {
          "output_type": "stream",
          "name": "stdout",
          "text": [
            "features_csv.csv  features_npy.npy  labels_csv.csv  labels_npy.npy\n"
          ]
        }
      ]
    },
    {
      "cell_type": "code",
      "execution_count": 2,
      "metadata": {
        "id": "izVaxCF5bO1J"
      },
      "outputs": [],
      "source": [
        "# Load data, define train and test batches\n",
        "\n",
        "class Dataset:\n",
        "\tdef __init__(self):\n",
        "\t\tself.features, self.labels = self.load_data()\n",
        "\t\t# add last dimension of size 1 (color chalnnel size is 1 for greyscale images)\n",
        "\t\tself.features = self.features.reshape([-1, 40, 40, 1])\n",
        "\t\tself.len_data = len(self.features)\n",
        "\n",
        "\tdef get_batches(self, batch_size=10):\n",
        "\t\tn_batches = int(self.len_data / batch_size)\n",
        "\t\tfeatures = self.features.reshape([n_batches, -1, 40, 40, 1])\n",
        "\t\tlabels = self.labels.reshape([n_batches, -1, 4])\n",
        "\t\treturn {\"features\": features,\n",
        "\t\t\t\t\"labels\": labels}\n",
        "\n",
        "\tdef train_and_test_data_as_batches(self, batch_size=10, ratio=0.8):\n",
        "\t\tbatches = self.get_batches(batch_size=batch_size)\n",
        "\t\tn_batches = len(batches[\"features\"])\n",
        "\t\tn_training_batches = int(n_batches * ratio)\n",
        "\t\treturn {\n",
        "\t\t\t\"train_features\": batches[\"features\"][:n_training_batches],\n",
        "\t\t\t\"train_labels\": batches[\"labels\"][:n_training_batches],\n",
        "\t\t\t\"test_features\": batches[\"features\"][n_training_batches:],\n",
        "\t\t\t\"test_labels\": batches[\"labels\"][n_training_batches:]\n",
        "\t\t}\n",
        "\n",
        "\tdef load_data(self, shuffled=True):\n",
        "\t\treturn self.shuffle(np.load(\"features_npy.npy\") / 25.5, np.load(\"labels_npy.npy\"))\n",
        "\n",
        "\tdef shuffle(self, a, b):\n",
        "\t\tp = np.random.permutation(len(a))\n",
        "\t\treturn a[p], b[p]\n",
        "\n"
      ]
    },
    {
      "cell_type": "code",
      "source": [
        "!ls gdrive/MyDrive/'Colab Notebooks'/data/gray_objects\n",
        "%cd gdrive/MyDrive/'Colab Notebooks'/data/gray_objects\n",
        "!ls"
      ],
      "metadata": {
        "colab": {
          "base_uri": "https://localhost:8080/"
        },
        "id": "erH5cTveDtAi",
        "outputId": "2f30361d-ba61-48e0-c39e-3394ad4ec33d"
      },
      "execution_count": 13,
      "outputs": [
        {
          "output_type": "stream",
          "name": "stdout",
          "text": [
            "features_csv.csv  features_npy.npy  labels_csv.csv  labels_npy.npy\n",
            "/content/gdrive/MyDrive/Colab Notebooks/data/gray_objects\n",
            "features_csv.csv  features_npy.npy  labels_csv.csv  labels_npy.npy\n"
          ]
        }
      ]
    },
    {
      "cell_type": "code",
      "source": [
        "import numpy as np\n",
        "\n",
        "%cd gdrive/MyDrive/'Colab Notebooks'/data/gray_objects\n",
        "%ls\n",
        "dataset = Dataset()\n",
        "data = dataset.train_and_test_data_as_batches(batch_size=50, ratio = 0.8)\n"
      ],
      "metadata": {
        "colab": {
          "base_uri": "https://localhost:8080/"
        },
        "id": "GF3soiSLDL0r",
        "outputId": "b9e8374a-9eeb-49da-878b-c9853de8628a"
      },
      "execution_count": null,
      "outputs": [
        {
          "output_type": "stream",
          "name": "stdout",
          "text": [
            "[Errno 2] No such file or directory: 'gdrive/MyDrive/Colab Notebooks/data/gray_objects'\n",
            "/content/gdrive/MyDrive/Colab Notebooks/data/gray_objects\n",
            "features_csv.csv  features_npy.npy  labels_csv.csv  labels_npy.npy\n"
          ]
        }
      ]
    },
    {
      "cell_type": "code",
      "source": [
        "# Run\n",
        "if __name__ == '__main__':\n",
        "\t# train and test the network\n",
        "\tdataset = Dataset()\n",
        "\tdata = dataset.train_and_test_data_as_batches(batch_size=50, ratio = 0.8)\n",
        "\tann = ANN(40, 40, 4)\n",
        "\tann.train(data[\"train_features\"], data[\"train_labels\"],\n",
        "\t\t\t  data[\"test_features\"], data[\"test_labels\"], 5)"
      ],
      "metadata": {
        "id": "3CiZlajzdEBg"
      },
      "execution_count": null,
      "outputs": []
    }
  ]
}